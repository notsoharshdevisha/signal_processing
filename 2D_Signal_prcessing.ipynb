{
 "cells": [
  {
   "cell_type": "code",
   "execution_count": 1,
   "id": "298afad0-3239-495f-9833-6bf5b978caab",
   "metadata": {},
   "outputs": [],
   "source": [
    "import matplotlib.image as mpimg\n",
    "import matplotlib.pyplot as plt\n",
    "import seaborn as sns\n",
    "sns.set()\n",
    "import numpy as np\n",
    "from ipywidgets import HBox, VBox, interactive_output, IntSlider, Dropdown, Label, interactive_output\n",
    "from Signalprocessing import *\n",
    "import warnings\n",
    "warnings.filterwarnings('ignore')\n",
    "import os"
   ]
  },
  {
   "cell_type": "code",
   "execution_count": 2,
   "id": "2000c5b3-338f-4b6f-8fb0-6c64eacd69ee",
   "metadata": {},
   "outputs": [],
   "source": [
    "try:\n",
    "    os.mkdir('jp_out_img')\n",
    "except:\n",
    "    None"
   ]
  },
  {
   "cell_type": "code",
   "execution_count": 3,
   "id": "d056c012-404a-4eb7-8c77-a6d030e2305a",
   "metadata": {},
   "outputs": [],
   "source": [
    "def plot_convoluted(img, kernel, pool_type):\n",
    "    img = cv.imread('images/{}.jpeg'.format(img))\n",
    "    out_img = Convolution().convolute2d(img=img, kernel=kernel, pool_type=pool_type)\n",
    "    cv.imwrite('jp_out_img/out_img.jpeg', out_img)\n",
    "    plt_img = mpimg.imread('jp_out_img/out_img.jpeg')\n",
    "    fig, ax = plt.subplots(nrows=1, ncols=2, figsize=((20, 15)))\n",
    "    ax[0].imshow(img[:,:,::-1])\n",
    "    ax[0].get_xaxis().set_ticks([])\n",
    "    ax[0].get_yaxis().set_ticks([])\n",
    "    ax[0].set_title('Original_Image')\n",
    "    ax[1].imshow(plt_img)\n",
    "    ax[1].get_xaxis().set_ticks([])\n",
    "    ax[1].get_yaxis().set_ticks([])\n",
    "    ax[1].set_title('Kernel : {}'.format(kernel))\n",
    "    fig.tight_layout()\n",
    "    plt.show()\n",
    "    "
   ]
  },
  {
   "cell_type": "code",
   "execution_count": 4,
   "id": "290f6d22-607e-47bb-b712-6af32422db0a",
   "metadata": {},
   "outputs": [],
   "source": [
    "img_sel = Dropdown(options=['fox', 'cat', 'taj'], value='cat')\n",
    "ker_sel = Dropdown(options=['gaussianblur3', 'gaussianblur5', 'sharpen', 'depth', 'edge', 'denoise3', 'denoise5'], value='gaussianblur3')\n",
    "pool_sel = Dropdown(options=['min', 'max', 'average', 'sum'], value='sum')\n",
    "img_box = HBox([Label('Image : '), img_sel])\n",
    "ker_box = HBox([Label('Kernel : '), ker_sel])\n",
    "pool_box = HBox([Label('Pool Type : '), pool_sel])\n",
    "ui = HBox([img_box, ker_box, pool_box])\n",
    "#display(ui)"
   ]
  },
  {
   "cell_type": "code",
   "execution_count": 5,
   "id": "61a01590-30f3-4865-8d1f-fb6699695350",
   "metadata": {},
   "outputs": [
    {
     "data": {
      "application/vnd.jupyter.widget-view+json": {
       "model_id": "b96053b30c9e491fa5b706a9ab33cf67",
       "version_major": 2,
       "version_minor": 0
      },
      "text/plain": [
       "HBox(children=(HBox(children=(Label(value='Image : '), Dropdown(index=1, options=('fox', 'cat', 'taj'), value=…"
      ]
     },
     "metadata": {},
     "output_type": "display_data"
    },
    {
     "data": {
      "application/vnd.jupyter.widget-view+json": {
       "model_id": "6f577e9dafe14d6e9788dfad7a41da1d",
       "version_major": 2,
       "version_minor": 0
      },
      "text/plain": [
       "Output()"
      ]
     },
     "metadata": {},
     "output_type": "display_data"
    }
   ],
   "source": [
    "out = interactive_output(plot_convoluted, {'img' : img_sel, 'kernel' : ker_sel, 'pool_type' : pool_sel})\n",
    "display(ui, out)"
   ]
  },
  {
   "cell_type": "code",
   "execution_count": 6,
   "id": "e5ddf865-46a4-47f5-8b81-77a89ebd4ef5",
   "metadata": {},
   "outputs": [],
   "source": [
    "def plot_transformed(imgname, type_, radius):\n",
    "    img = cv.imread('images/{}.jpeg'.format(imgname))\n",
    "    out_img = fft().filter(img=img, type_=type_, radius=radius)\n",
    "    cv.imwrite('jp_out_img/{}_{}_transformed.jpeg'.format(imgname, type_), out_img)\n",
    "    plt_img = mpimg.imread('jp_out_img/{}_{}_transformed.jpeg'.format(imgname, type_))\n",
    "    fig, ax = plt.subplots(nrows=1, ncols=2, figsize=(20, 15))\n",
    "    ax[0].imshow(img[:,:,::-1])\n",
    "    ax[0].get_xaxis().set_ticks([])\n",
    "    ax[0].get_yaxis().set_ticks([])\n",
    "    ax[0].set_title('Original_Image')\n",
    "    ax[1].imshow(plt_img, cmap='gray')\n",
    "    ax[1].get_xaxis().set_ticks([])\n",
    "    ax[1].get_yaxis().set_ticks([])\n",
    "    ax[1].set_title('Filter : {}'.format(type_))\n",
    "    fig.tight_layout()\n",
    "    plt.show()\n",
    "    "
   ]
  },
  {
   "cell_type": "code",
   "execution_count": 7,
   "id": "a3dcd6d7-e2e7-4675-8900-8166ca030767",
   "metadata": {},
   "outputs": [],
   "source": [
    "img_sel = Dropdown(options=['cat', 'fox', 'taj'], value='cat')\n",
    "fil_sel = Dropdown(options=['lowpass', 'highpass'], value='lowpass')\n",
    "wind_slider = IntSlider(min=0, max=150, value=50)\n",
    "img_box = HBox([Label('Image : '), img_sel])\n",
    "fil_box = HBox([Label('Filter Type : '), fil_sel])\n",
    "wind_box = HBox([Label('Window Length : '), wind_slider])\n",
    "ui = HBox([img_box, fil_box, wind_box])\n",
    "#display(ui)"
   ]
  },
  {
   "cell_type": "code",
   "execution_count": 8,
   "id": "c7a2091c-26b6-46e8-b6be-adee48cd69dd",
   "metadata": {},
   "outputs": [
    {
     "data": {
      "application/vnd.jupyter.widget-view+json": {
       "model_id": "d46ca00663e44de48e8a8796b1a895ce",
       "version_major": 2,
       "version_minor": 0
      },
      "text/plain": [
       "HBox(children=(HBox(children=(Label(value='Image : '), Dropdown(options=('cat', 'fox', 'taj'), value='cat'))),…"
      ]
     },
     "metadata": {},
     "output_type": "display_data"
    },
    {
     "data": {
      "application/vnd.jupyter.widget-view+json": {
       "model_id": "9d77722610c34d4b9b9ac2b198699a10",
       "version_major": 2,
       "version_minor": 0
      },
      "text/plain": [
       "Output()"
      ]
     },
     "metadata": {},
     "output_type": "display_data"
    }
   ],
   "source": [
    "out = interactive_output(plot_transformed, {'imgname' : img_sel, 'type_' : fil_sel, 'radius' : wind_slider})\n",
    "display(ui, out)"
   ]
  },
  {
   "cell_type": "code",
   "execution_count": null,
   "id": "9b90ae93-2e08-4f25-8ce9-e922c0616db5",
   "metadata": {},
   "outputs": [],
   "source": []
  }
 ],
 "metadata": {
  "kernelspec": {
   "display_name": "Python 3",
   "language": "python",
   "name": "python3"
  },
  "language_info": {
   "codemirror_mode": {
    "name": "ipython",
    "version": 3
   },
   "file_extension": ".py",
   "mimetype": "text/x-python",
   "name": "python",
   "nbconvert_exporter": "python",
   "pygments_lexer": "ipython3",
   "version": "3.9.1"
  }
 },
 "nbformat": 4,
 "nbformat_minor": 5
}
